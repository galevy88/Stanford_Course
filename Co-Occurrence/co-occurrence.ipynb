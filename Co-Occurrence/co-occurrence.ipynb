{
 "cells": [
  {
   "attachments": {},
   "cell_type": "markdown",
   "metadata": {},
   "source": [
    "### Co Occurrence ###"
   ]
  },
  {
   "cell_type": "code",
   "execution_count": null,
   "metadata": {},
   "outputs": [],
   "source": [
    "from collections import Counter\n",
    "import pandas as pd\n",
    "import numpy as np\n"
   ]
  },
  {
   "cell_type": "code",
   "execution_count": null,
   "metadata": {},
   "outputs": [],
   "source": [
    "sentences = [\n",
    "    \"I like deep learning\",\n",
    "    \"I like NLP\",\n",
    "    \"I enjoy flying\",\n",
    "    \"I like flying\",\n",
    "    \"deep learning is like flying\"\n",
    "]"
   ]
  },
  {
   "cell_type": "code",
   "execution_count": null,
   "metadata": {},
   "outputs": [],
   "source": [
    "# Split the sentences into words\n",
    "word_lists = [sentence.split() for sentence in sentences]\n",
    "\n",
    "# Create a set of all words\n",
    "words = {word for word_list in word_lists for word in word_list}\n",
    "\n",
    "# Initialize a dictionary to hold co-occurrence counts\n",
    "co_occurrences = Counter()\n",
    "\n",
    "# Count co-occurrences\n",
    "for word_list in word_lists:\n",
    "    for i in range(len(word_list)):\n",
    "        for j in range(i+1, len(word_list)):\n",
    "            # Count both (word1, word2) and (word2, word1)\n",
    "            co_occurrences[(word_list[i], word_list[j])] += 1\n",
    "            co_occurrences[(word_list[j], word_list[i])] += 1\n",
    "\n",
    "# Create a co-occurrence matrix\n",
    "co_occurrence_matrix = np.zeros((len(words), len(words)))\n",
    "\n",
    "# Create a dictionary to map words to indices\n",
    "word_to_index = {word: i for i, word in enumerate(words)}\n",
    "\n",
    "# Fill the co-occurrence matrix\n",
    "for (word1, word2), count in co_occurrences.items():\n",
    "    i = word_to_index[word1]\n",
    "    j = word_to_index[word2]\n",
    "    co_occurrence_matrix[i][j] = count\n",
    "\n",
    "# Convert to a DataFrame for nicer printing\n",
    "df = pd.DataFrame(co_occurrence_matrix, index=words, columns=words)\n",
    "print(df)\n"
   ]
  }
 ],
 "metadata": {
  "kernelspec": {
   "display_name": "Python 3",
   "language": "python",
   "name": "python3"
  },
  "language_info": {
   "codemirror_mode": {
    "name": "ipython",
    "version": 3
   },
   "file_extension": ".py",
   "mimetype": "text/x-python",
   "name": "python",
   "nbconvert_exporter": "python",
   "pygments_lexer": "ipython3",
   "version": "3.10.6"
  },
  "orig_nbformat": 4
 },
 "nbformat": 4,
 "nbformat_minor": 2
}
