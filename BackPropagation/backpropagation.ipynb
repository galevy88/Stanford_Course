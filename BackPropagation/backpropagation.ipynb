{
 "cells": [
  {
   "cell_type": "code",
   "execution_count": 26,
   "metadata": {},
   "outputs": [],
   "source": [
    "import numpy as np"
   ]
  },
  {
   "cell_type": "code",
   "execution_count": 27,
   "metadata": {},
   "outputs": [],
   "source": [
    "def softmax(x):\n",
    "    e_x = np.exp(x - np.max(x))  # subtract max(x) for numerical stability\n",
    "    return e_x / e_x.sum(axis=0)  # sum along the column"
   ]
  },
  {
   "cell_type": "code",
   "execution_count": 28,
   "metadata": {},
   "outputs": [
    {
     "name": "stdout",
     "output_type": "stream",
     "text": [
      "Weights:\n",
      "W1: [[ 0.1  0.3]\n",
      " [ 0.2  0.4]\n",
      " [-0.5 -0.2]]\n",
      "W2: [[ 0.3 -0.5  0.1]\n",
      " [-0.2  0.4  0.2]]\n",
      "Biases:\n",
      "b1: [ 0.1  0.2 -0.1]\n",
      "b2: [ 0.1 -0.1]\n"
     ]
    }
   ],
   "source": [
    "# Define the neural network architecture\n",
    "input_size = 2\n",
    "hidden_size = 3\n",
    "output_size = 2\n",
    "\n",
    "# Initialize the weights and biases\n",
    "np.random.seed(0)\n",
    "W1 = np.array([[0.1, 0.3], [0.2, 0.4], [-0.5, -0.2]])  # weight matrix for the first layer\n",
    "b1 = np.array([0.1, 0.2, -0.1])  # bias vector for the first layer\n",
    "W2 = np.array([[0.3, -0.5, 0.1], [-0.2, 0.4, 0.2]])  # weight matrix for the second layer\n",
    "b2 = np.array([0.1, -0.1])  # bias vector for the second layer\n",
    "\n",
    "# Print the updated weights and biases\n",
    "print(\"Weights:\")\n",
    "print(\"W1:\", W1)\n",
    "print(\"W2:\", W2)\n",
    "print(\"Biases:\")\n",
    "print(\"b1:\", b1)\n",
    "print(\"b2:\", b2)"
   ]
  },
  {
   "cell_type": "code",
   "execution_count": 29,
   "metadata": {},
   "outputs": [
    {
     "name": "stdout",
     "output_type": "stream",
     "text": [
      "[ 0.33  0.54 -0.47]\n",
      "[0.33 0.54 0.  ]\n",
      "[-0.071  0.05 ]\n",
      "[0.46978685 0.53021315]\n"
     ]
    }
   ],
   "source": [
    "# Forward propagation\n",
    "x = np.array([0.5, 0.6])   # input data\n",
    "y_true = np.array([0, 1])  # true output\n",
    "\n",
    "z1 = np.dot(W1, x) + b1\n",
    "print(z1)\n",
    "h1 = np.maximum(0, z1)\n",
    "print(h1)\n",
    "z2 = np.dot(W2, h1) + b2\n",
    "print(z2)\n",
    "y_hat = softmax(z2)\n",
    "print(y_hat)"
   ]
  },
  {
   "cell_type": "code",
   "execution_count": 30,
   "metadata": {},
   "outputs": [
    {
     "name": "stdout",
     "output_type": "stream",
     "text": [
      "[[ 0.46978685]\n",
      " [-0.46978685]]\n"
     ]
    }
   ],
   "source": [
    "dZ2 = (y_hat - y_true).reshape(-1, 1)\n",
    "print(dZ2)\n",
    "h1 = h1.reshape(-1, 1)\n",
    "\n",
    "# Backpropagation - compute the gradients of each parameter\n",
    "dW2 = np.dot(dZ2, h1.T)\n",
    "db2 = dZ2\n",
    "\n",
    "dh1 = np.dot(W2.T, dZ2)\n",
    "dz1 = np.multiply(dh1, (h1 > 0)) \n",
    "dW1 = np.dot(dz1, x.reshape(-1, 1).T)\n",
    "db1 = dz1"
   ]
  },
  {
   "cell_type": "code",
   "execution_count": 31,
   "metadata": {},
   "outputs": [],
   "source": [
    "# Update weights\n",
    "learning_rate = 0.1\n",
    "W2 = W2 - learning_rate * dW2\n",
    "b2 = b2 - learning_rate * db2\n",
    "W1 = W1 - learning_rate * dW1\n",
    "b1 = b1 - learning_rate * db1"
   ]
  },
  {
   "cell_type": "code",
   "execution_count": 32,
   "metadata": {},
   "outputs": [
    {
     "name": "stdout",
     "output_type": "stream",
     "text": [
      "Updated Weights:\n",
      "W1: [[ 0.08825533  0.28590639]\n",
      " [ 0.22114041  0.42536849]\n",
      " [-0.5        -0.2       ]]\n",
      "W2: [[ 0.28449703 -0.52536849  0.1       ]\n",
      " [-0.18449703  0.42536849  0.2       ]]\n",
      "Updated Biases:\n",
      "b1: [[ 0.07651066  0.17651066 -0.12348934]\n",
      " [ 0.14228082  0.24228082 -0.05771918]\n",
      " [ 0.1         0.2        -0.1       ]]\n",
      "b2: [[ 0.05302131 -0.14697869]\n",
      " [ 0.14697869 -0.05302131]]\n"
     ]
    }
   ],
   "source": [
    "# Print the updated weights and biases\n",
    "print(\"Updated Weights:\")\n",
    "print(\"W1:\", W1)\n",
    "print(\"W2:\", W2)\n",
    "print(\"Updated Biases:\")\n",
    "print(\"b1:\", b1)\n",
    "print(\"b2:\", b2)\n"
   ]
  }
 ],
 "metadata": {
  "kernelspec": {
   "display_name": "Python 3",
   "language": "python",
   "name": "python3"
  },
  "language_info": {
   "codemirror_mode": {
    "name": "ipython",
    "version": 3
   },
   "file_extension": ".py",
   "mimetype": "text/x-python",
   "name": "python",
   "nbconvert_exporter": "python",
   "pygments_lexer": "ipython3",
   "version": "3.10.6"
  },
  "orig_nbformat": 4
 },
 "nbformat": 4,
 "nbformat_minor": 2
}
