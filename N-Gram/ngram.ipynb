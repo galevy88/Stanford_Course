{
 "cells": [
  {
   "cell_type": "code",
   "execution_count": 72,
   "metadata": {},
   "outputs": [],
   "source": [
    "# !pip install nltk\n",
    "# !python -m nltk.downloader reuters\n"
   ]
  },
  {
   "cell_type": "code",
   "execution_count": 73,
   "metadata": {},
   "outputs": [],
   "source": [
    "import nltk\n",
    "from nltk.util import everygrams\n",
    "from collections import defaultdict, Counter\n",
    "from nltk.tokenize import word_tokenize\n",
    "from nltk.corpus import reuters\n",
    "import re\n",
    "import contractions"
   ]
  },
  {
   "cell_type": "code",
   "execution_count": 74,
   "metadata": {},
   "outputs": [],
   "source": [
    "SENTENCE = \"today the company\""
   ]
  },
  {
   "cell_type": "code",
   "execution_count": 75,
   "metadata": {},
   "outputs": [],
   "source": [
    "def expand_contractions(text):\n",
    "    return contractions.fix(text)\n",
    "\n",
    "def preprocess(text):\n",
    "    text = expand_contractions(text)\n",
    "    text = text.lower()\n",
    "    return text\n",
    "\n",
    "def generate_sentence(input_sentence, model):\n",
    "    for _ in range(1):  # generate one word\n",
    "        next_word_candidates = model[input_sentence]\n",
    "        while not next_word_candidates and input_sentence:\n",
    "            input_sentence = ' '.join(input_sentence.split(' ')[1:])\n",
    "            next_word_candidates = model[input_sentence]\n",
    "        if not next_word_candidates:\n",
    "            break\n",
    "        input_sentence = max(next_word_candidates, key=next_word_candidates.get)\n",
    "    return input_sentence"
   ]
  },
  {
   "cell_type": "code",
   "execution_count": 76,
   "metadata": {},
   "outputs": [],
   "source": [
    "# Tokenize the reuters corpus\n",
    "tokens = word_tokenize(preprocess(reuters.raw()))\n",
    "#print(reuters.raw())"
   ]
  },
  {
   "cell_type": "code",
   "execution_count": 77,
   "metadata": {},
   "outputs": [],
   "source": [
    "# Create n-grams where n is the number of words in the input sentence\n",
    "n = len(SENTENCE.split())\n",
    "ngrams = list(everygrams(tokens, max_len=n+1))\n",
    "\n",
    "# Initialize the model\n",
    "model = defaultdict(Counter)"
   ]
  },
  {
   "cell_type": "code",
   "execution_count": 78,
   "metadata": {},
   "outputs": [],
   "source": [
    "# Count frequency of co-occurence\n",
    "for ngram in ngrams:\n",
    "    if len(ngram) == n+1:\n",
    "        *init_words, next_word = ngram\n",
    "        init_words = ' '.join(init_words)\n",
    "        model[init_words][next_word] += 1\n",
    "\n",
    "# Let's transform the counts to probabilities\n",
    "for w1 in model:\n",
    "    total_count = float(sum(model[w1].values()))\n",
    "    for w2 in model[w1]:\n",
    "        model[w1][w2] /= total_count"
   ]
  },
  {
   "cell_type": "code",
   "execution_count": 79,
   "metadata": {},
   "outputs": [
    {
     "name": "stdout",
     "output_type": "stream",
     "text": [
      "today the company <reported>\n"
     ]
    }
   ],
   "source": [
    "# Generate a sentence\n",
    "ans = generate_sentence(SENTENCE, model)\n",
    "print(f\"{SENTENCE} <{ans}>\")\n"
   ]
  }
 ],
 "metadata": {
  "kernelspec": {
   "display_name": "Python 3",
   "language": "python",
   "name": "python3"
  },
  "language_info": {
   "codemirror_mode": {
    "name": "ipython",
    "version": 3
   },
   "file_extension": ".py",
   "mimetype": "text/x-python",
   "name": "python",
   "nbconvert_exporter": "python",
   "pygments_lexer": "ipython3",
   "version": "3.10.6"
  },
  "orig_nbformat": 4
 },
 "nbformat": 4,
 "nbformat_minor": 2
}
