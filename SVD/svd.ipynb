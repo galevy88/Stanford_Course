{
 "cells": [
  {
   "attachments": {},
   "cell_type": "markdown",
   "metadata": {},
   "source": [
    "### SVD ###"
   ]
  },
  {
   "cell_type": "code",
   "execution_count": 5,
   "metadata": {},
   "outputs": [
    {
     "name": "stdout",
     "output_type": "stream",
     "text": [
      "Shape of U: (10000, 10000)\n",
      "Shape of Sigma: (10000,)\n",
      "Shape of V^T: (10000, 10000)\n",
      "Shape of Reduced U: (10000, 1000)\n",
      "Shape of Reduced Sigma: (1000, 1000)\n",
      "Shape of Reduced V^T: (1000, 10000)\n",
      "Shape of Reduced A: (10000, 10000)\n",
      "MSE between A and A_reduced: 0.05721455365459135\n",
      "Original size: 100000000 cells\n",
      "Compressed size: 21000000 cells\n",
      "Difference in size: 79000000 cells\n"
     ]
    }
   ],
   "source": [
    "import numpy as np\n",
    "\n",
    "# Create a large matrix, for example 1000x2000\n",
    "A = np.random.rand(10000,10000)\n",
    "\n",
    "# Perform SVD\n",
    "U, sigma, VT = np.linalg.svd(A)\n",
    "\n",
    "print(\"Shape of U:\", U.shape)\n",
    "print(\"Shape of Sigma:\", sigma.shape)\n",
    "print(\"Shape of V^T:\", VT.shape)\n",
    "\n",
    "# Now suppose we want to keep only the 1000 largest singular values:\n",
    "\n",
    "k = 1000\n",
    "\n",
    "U_reduced = U[:, :k]\n",
    "Sigma_reduced = np.diag(sigma[:k])\n",
    "VT_reduced = VT[:k, :]\n",
    "\n",
    "print(\"Shape of Reduced U:\", U_reduced.shape)\n",
    "print(\"Shape of Reduced Sigma:\", Sigma_reduced.shape)\n",
    "print(\"Shape of Reduced V^T:\", VT_reduced.shape)\n",
    "\n",
    "# Now we can get the reduced version of A:\n",
    "A_reduced = U_reduced.dot(Sigma_reduced.dot(VT_reduced))\n",
    "\n",
    "print(\"Shape of Reduced A:\", A_reduced.shape)\n",
    "\n",
    "# Compute the Mean Squared Error between A and A_reduced\n",
    "mse = np.mean((A - A_reduced)**2)\n",
    "print(\"MSE between A and A_reduced:\", mse)\n",
    "\n",
    "# Compute the size difference\n",
    "original_size = np.prod(A.shape)  # total elements in A\n",
    "compressed_size = np.prod(U_reduced.shape) + np.prod(Sigma_reduced.shape) + np.prod(VT_reduced.shape)  # total elements in U_reduced, Sigma_reduced, and VT_reduced\n",
    "size_diff = original_size - compressed_size\n",
    "print(\"Original size:\", original_size, \"cells\")\n",
    "print(\"Compressed size:\", compressed_size, \"cells\")\n",
    "print(\"Difference in size:\", size_diff, \"cells\")\n"
   ]
  }
 ],
 "metadata": {
  "kernelspec": {
   "display_name": "Python 3",
   "language": "python",
   "name": "python3"
  },
  "language_info": {
   "codemirror_mode": {
    "name": "ipython",
    "version": 3
   },
   "file_extension": ".py",
   "mimetype": "text/x-python",
   "name": "python",
   "nbconvert_exporter": "python",
   "pygments_lexer": "ipython3",
   "version": "3.10.6"
  },
  "orig_nbformat": 4
 },
 "nbformat": 4,
 "nbformat_minor": 2
}
