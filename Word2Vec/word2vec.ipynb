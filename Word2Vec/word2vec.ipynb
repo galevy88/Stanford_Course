{
 "cells": [
  {
   "cell_type": "code",
   "execution_count": null,
   "metadata": {},
   "outputs": [],
   "source": [
    "import torch\n",
    "import torch.nn.functional as F"
   ]
  },
  {
   "attachments": {},
   "cell_type": "markdown",
   "metadata": {},
   "source": [
    "### P(o|c) calculation example ###"
   ]
  },
  {
   "cell_type": "code",
   "execution_count": null,
   "metadata": {},
   "outputs": [],
   "source": [
    "import torch\n",
    "from torch.nn import functional as F\n",
    "\n",
    "# Pretrained vectors\n",
    "v_love = torch.tensor([0.1, 0.3])\n",
    "u_I = torch.tensor([0.2, 0.1])\n",
    "u_dogs = torch.tensor([0.3, 0.1])\n",
    "u_cats = torch.tensor([0.1, 0.2])\n",
    "u_you = torch.tensor([0.2, 0.2])\n",
    "\n",
    "# Dot products\n",
    "u_I_dot_v_love = torch.dot(u_I, v_love)\n",
    "u_dogs_dot_v_love = torch.dot(u_dogs, v_love)\n",
    "u_cats_dot_v_love = torch.dot(u_cats, v_love)\n",
    "u_you_dot_v_love = torch.dot(u_you, v_love)\n",
    "\n",
    "# Stack dot products into a tensor\n",
    "dot_products = torch.stack([u_I_dot_v_love, u_dogs_dot_v_love, u_cats_dot_v_love, u_you_dot_v_love])\n",
    "\n",
    "# Apply softmax to get probabilities\n",
    "probabilities = F.softmax(dot_products, dim=0)\n",
    "\n",
    "print(\"Softmax probabilities:\", probabilities)\n"
   ]
  }
 ],
 "metadata": {
  "kernelspec": {
   "display_name": "Python 3",
   "language": "python",
   "name": "python3"
  },
  "language_info": {
   "codemirror_mode": {
    "name": "ipython",
    "version": 3
   },
   "file_extension": ".py",
   "mimetype": "text/x-python",
   "name": "python",
   "nbconvert_exporter": "python",
   "pygments_lexer": "ipython3",
   "version": "3.10.6"
  },
  "orig_nbformat": 4
 },
 "nbformat": 4,
 "nbformat_minor": 2
}
