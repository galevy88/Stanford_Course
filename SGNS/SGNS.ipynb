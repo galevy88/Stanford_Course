{
 "cells": [
  {
   "attachments": {},
   "cell_type": "markdown",
   "metadata": {},
   "source": [
    "### Objective ###"
   ]
  },
  {
   "cell_type": "code",
   "execution_count": 13,
   "metadata": {},
   "outputs": [
    {
     "name": "stdout",
     "output_type": "stream",
     "text": [
      "word_vec: [-0.14824595  0.72745789]\n",
      "context_vec: [-0.7640656  1.1930231]\n",
      "negative_samples: [array([ 0.73078922, -0.41549884]), array([-0.66389013,  0.1944147 ]), array([-0.15754327,  0.19867895]), array([ 1.85509305, -1.00910091]), array([-0.05176643, -0.8957641 ])]\n",
      "positive_pair: 0.9811437047041338\n",
      "negative_sum: -1.655906145392752\n",
      "Objective:  -0.49309324000077204\n"
     ]
    }
   ],
   "source": [
    "import numpy as np\n",
    "\n",
    "def sigmoid(x):\n",
    "    return 1 / (1 + np.exp(-x))\n",
    "\n",
    "def objective(word_vec, context_vec, negative_samples):\n",
    "    # Compute the dot product of the word and context vector\n",
    "    positive_pair = np.dot(word_vec, context_vec)\n",
    "    print(f\"positive_pair: {positive_pair}\")\n",
    "    # Compute the dot product of the word vector and each negative sample,\n",
    "    # and sum up the results\n",
    "    negative_sum = sum(np.dot(word_vec, neg_sample) for neg_sample in negative_samples)\n",
    "    print(f\"negative_sum: {negative_sum}\")\n",
    "    # Compute the objective function\n",
    "    objective = np.log(sigmoid(positive_pair)) + np.log(sigmoid(-negative_sum))\n",
    "\n",
    "    return objective\n",
    "\n",
    "# Assume we have a word vector and a context vector,\n",
    "# each of size 300 (for example)\n",
    "word_vec = np.random.normal(size=2)\n",
    "print(f\"word_vec: {word_vec}\")\n",
    "context_vec = np.random.normal(size=2)\n",
    "print(f\"context_vec: {context_vec}\")\n",
    "# Assume we sample 5 negative words\n",
    "negative_samples = [np.random.normal(size=2) for _ in range(5)]\n",
    "print(f\"negative_samples: {negative_samples}\")\n",
    "# Compute the objective function\n",
    "obj = objective(word_vec, context_vec, negative_samples)\n",
    "\n",
    "print(\"Objective: \", obj)\n"
   ]
  }
 ],
 "metadata": {
  "kernelspec": {
   "display_name": "Python 3",
   "language": "python",
   "name": "python3"
  },
  "language_info": {
   "codemirror_mode": {
    "name": "ipython",
    "version": 3
   },
   "file_extension": ".py",
   "mimetype": "text/x-python",
   "name": "python",
   "nbconvert_exporter": "python",
   "pygments_lexer": "ipython3",
   "version": "3.10.6"
  },
  "orig_nbformat": 4
 },
 "nbformat": 4,
 "nbformat_minor": 2
}
