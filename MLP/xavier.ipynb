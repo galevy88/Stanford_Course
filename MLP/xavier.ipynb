{
 "cells": [
  {
   "cell_type": "code",
   "execution_count": null,
   "metadata": {},
   "outputs": [],
   "source": [
    "import numpy as np\n",
    "\n",
    "def xavier_init(size):\n",
    "    in_dim = size[0]\n",
    "    out_dim = size[1] if len(size) > 1 else 1\n",
    "\n",
    "    # Compute the standard deviation\n",
    "    stddev = np.sqrt(2 / (in_dim + out_dim))\n",
    "\n",
    "    # Generate weights from normal distribution with mean 0 and computed stddev\n",
    "    return np.random.normal(0, stddev, size)\n",
    "\n",
    "# Example usage\n",
    "weights = xavier_init([2, 3])\n",
    "print(weights)\n"
   ]
  }
 ],
 "metadata": {
  "kernelspec": {
   "display_name": "Python 3",
   "language": "python",
   "name": "python3"
  },
  "language_info": {
   "codemirror_mode": {
    "name": "ipython",
    "version": 3
   },
   "file_extension": ".py",
   "mimetype": "text/x-python",
   "name": "python",
   "nbconvert_exporter": "python",
   "pygments_lexer": "ipython3",
   "version": "3.10.6"
  },
  "orig_nbformat": 4
 },
 "nbformat": 4,
 "nbformat_minor": 2
}
