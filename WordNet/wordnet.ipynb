{
 "cells": [
  {
   "cell_type": "code",
   "execution_count": null,
   "metadata": {},
   "outputs": [],
   "source": [
    "import nltk\n",
    "nltk.download('wordnet')"
   ]
  },
  {
   "cell_type": "code",
   "execution_count": null,
   "metadata": {},
   "outputs": [],
   "source": [
    "from nltk.corpus import wordnet\n",
    "\n",
    "# Find synsets (synonymous words that express the same or very similar concepts) for \"dog\"\n",
    "syns = wordnet.synsets(\"dog\")\n",
    "print(type(syns[0]))\n",
    "\n",
    "print(f\"Synsets for 'dog': {syns}\\n\")\n",
    "\n",
    "# Just want the word?\n",
    "print(f\"Just the word: {syns[0].lemmas()[0].name()}\\n\")\n",
    "\n",
    "# Definition of the first synset\n",
    "print(f\"Definition: {syns[0].definition()}\\n\")\n",
    "\n",
    "# Examples of the word in use\n",
    "print(f\"Examples: {syns[0].examples()}\\n\")\n",
    "\n",
    "# Get synonyms and antonyms\n",
    "synonyms = []\n",
    "antonyms = []\n",
    "\n",
    "for syn in wordnet.synsets(\"good\"):\n",
    "    for lemma in syn.lemmas():\n",
    "        synonyms.append(lemma.name())\n",
    "        if lemma.antonyms():\n",
    "            antonyms.append(lemma.antonyms()[0].name())\n",
    "\n",
    "print(f\"Synonyms for 'good': {synonyms}\\n\")\n",
    "print(f\"Antonyms for 'good': {antonyms}\\n\")\n",
    "\n",
    "# Similarity between words\n",
    "w1 = wordnet.synset('ship.n.01')\n",
    "w2 = wordnet.synset('boat.n.01')\n",
    "print(f\"Similarity between 'ship' and 'boat': {w1.wup_similarity(w2)}\")\n"
   ]
  },
  {
   "cell_type": "code",
   "execution_count": null,
   "metadata": {},
   "outputs": [],
   "source": []
  }
 ],
 "metadata": {
  "kernelspec": {
   "display_name": "Python 3",
   "language": "python",
   "name": "python3"
  },
  "language_info": {
   "codemirror_mode": {
    "name": "ipython",
    "version": 3
   },
   "file_extension": ".py",
   "mimetype": "text/x-python",
   "name": "python",
   "nbconvert_exporter": "python",
   "pygments_lexer": "ipython3",
   "version": "3.10.6"
  },
  "orig_nbformat": 4
 },
 "nbformat": 4,
 "nbformat_minor": 2
}
