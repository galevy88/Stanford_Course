{
 "cells": [
  {
   "cell_type": "code",
   "execution_count": 3,
   "metadata": {},
   "outputs": [
    {
     "name": "stdout",
     "output_type": "stream",
     "text": [
      "Collecting torchtext\n",
      "  Using cached torchtext-0.15.2-cp310-cp310-win_amd64.whl (1.9 MB)\n",
      "Requirement already satisfied: tqdm in c:\\users\\galle\\appdata\\local\\programs\\python\\python310\\lib\\site-packages (from torchtext) (4.64.1)\n",
      "Requirement already satisfied: requests in c:\\users\\galle\\appdata\\local\\programs\\python\\python310\\lib\\site-packages (from torchtext) (2.30.0)\n",
      "Requirement already satisfied: torch==2.0.1 in c:\\users\\galle\\appdata\\local\\programs\\python\\python310\\lib\\site-packages (from torchtext) (2.0.1)\n",
      "Requirement already satisfied: numpy in c:\\users\\galle\\appdata\\local\\programs\\python\\python310\\lib\\site-packages (from torchtext) (1.23.5)\n",
      "Requirement already satisfied: torchdata==0.6.1 in c:\\users\\galle\\appdata\\local\\programs\\python\\python310\\lib\\site-packages (from torchtext) (0.6.1)\n",
      "Requirement already satisfied: filelock in c:\\users\\galle\\appdata\\local\\programs\\python\\python310\\lib\\site-packages (from torch==2.0.1->torchtext) (3.12.0)\n",
      "Requirement already satisfied: typing-extensions in c:\\users\\galle\\appdata\\local\\programs\\python\\python310\\lib\\site-packages (from torch==2.0.1->torchtext) (4.5.0)\n",
      "Requirement already satisfied: sympy in c:\\users\\galle\\appdata\\local\\programs\\python\\python310\\lib\\site-packages (from torch==2.0.1->torchtext) (1.12)\n",
      "Requirement already satisfied: networkx in c:\\users\\galle\\appdata\\local\\programs\\python\\python310\\lib\\site-packages (from torch==2.0.1->torchtext) (3.1)\n",
      "Requirement already satisfied: jinja2 in c:\\users\\galle\\appdata\\local\\programs\\python\\python310\\lib\\site-packages (from torch==2.0.1->torchtext) (3.1.2)\n",
      "Requirement already satisfied: urllib3>=1.25 in c:\\users\\galle\\appdata\\local\\programs\\python\\python310\\lib\\site-packages (from torchdata==0.6.1->torchtext) (1.26.12)\n",
      "Requirement already satisfied: charset-normalizer<4,>=2 in c:\\users\\galle\\appdata\\local\\programs\\python\\python310\\lib\\site-packages (from requests->torchtext) (2.1.1)\n",
      "Requirement already satisfied: idna<4,>=2.5 in c:\\users\\galle\\appdata\\local\\programs\\python\\python310\\lib\\site-packages (from requests->torchtext) (3.4)\n",
      "Requirement already satisfied: certifi>=2017.4.17 in c:\\users\\galle\\appdata\\local\\programs\\python\\python310\\lib\\site-packages (from requests->torchtext) (2022.9.14)\n",
      "Requirement already satisfied: colorama in c:\\users\\galle\\appdata\\local\\programs\\python\\python310\\lib\\site-packages (from tqdm->torchtext) (0.4.6)\n",
      "Requirement already satisfied: MarkupSafe>=2.0 in c:\\users\\galle\\appdata\\local\\programs\\python\\python310\\lib\\site-packages (from jinja2->torch==2.0.1->torchtext) (2.1.1)\n",
      "Requirement already satisfied: mpmath>=0.19 in c:\\users\\galle\\appdata\\local\\programs\\python\\python310\\lib\\site-packages (from sympy->torch==2.0.1->torchtext) (1.3.0)\n",
      "Installing collected packages: torchtext\n",
      "Successfully installed torchtext-0.15.2\n"
     ]
    },
    {
     "name": "stderr",
     "output_type": "stream",
     "text": [
      "WARNING: Ignoring invalid distribution -atplotlib (c:\\users\\galle\\appdata\\roaming\\python\\python310\\site-packages)\n",
      "WARNING: Ignoring invalid distribution -atplotlib (c:\\users\\galle\\appdata\\roaming\\python\\python310\\site-packages)\n",
      "WARNING: Ignoring invalid distribution -rotobuf (c:\\users\\galle\\appdata\\local\\programs\\python\\python310\\lib\\site-packages)\n",
      "WARNING: Ignoring invalid distribution -atplotlib (c:\\users\\galle\\appdata\\roaming\\python\\python310\\site-packages)\n",
      "WARNING: Ignoring invalid distribution -rotobuf (c:\\users\\galle\\appdata\\local\\programs\\python\\python310\\lib\\site-packages)\n",
      "WARNING: Ignoring invalid distribution -atplotlib (c:\\users\\galle\\appdata\\roaming\\python\\python310\\site-packages)\n",
      "WARNING: Ignoring invalid distribution -atplotlib (c:\\users\\galle\\appdata\\roaming\\python\\python310\\site-packages)\n",
      "WARNING: Ignoring invalid distribution -atplotlib (c:\\users\\galle\\appdata\\roaming\\python\\python310\\site-packages)\n"
     ]
    }
   ],
   "source": [
    "!pip install torchtext"
   ]
  },
  {
   "cell_type": "code",
   "execution_count": 4,
   "metadata": {},
   "outputs": [
    {
     "name": "stderr",
     "output_type": "stream",
     "text": [
      "c:\\Users\\galle\\AppData\\Local\\Programs\\Python\\Python310\\lib\\site-packages\\tqdm\\auto.py:22: TqdmWarning: IProgress not found. Please update jupyter and ipywidgets. See https://ipywidgets.readthedocs.io/en/stable/user_install.html\n",
      "  from .autonotebook import tqdm as notebook_tqdm\n"
     ]
    }
   ],
   "source": [
    "import torch\n",
    "import torch.nn as nn\n",
    "import torch.optim as optim\n",
    "from torchtext.datasets import AG_NEWS\n",
    "from torchtext.data.utils import get_tokenizer\n",
    "from torchtext.vocab import build_vocab_from_iterator\n",
    "from torch.utils.data import DataLoader\n",
    "from torch.nn.utils.rnn import pad_sequence"
   ]
  },
  {
   "cell_type": "code",
   "execution_count": 31,
   "metadata": {},
   "outputs": [
    {
     "name": "stdout",
     "output_type": "stream",
     "text": [
      "(1, 'I used to be an avid viewer until I personally spent long cold hours helping build a home for the White Family, only to be sickened to see the house a year later. All of the beautiful rock landscaping has been removed, the gorgeous rock sidewalk and front fountain have been removed, all the pine trees and pecan trees in the front have been cut down, sprinkler system has been ripped out. It now looks like a disaster area. They don\\'t even live there any more... they live \"in town\" and come out only for the weekend. It sickens me to think of all the hours that the great people of Oklahoma donated to these people and to see the result. The story that we all saw on TV wasn\\'t completely the truth... don\\'t believe every thing you see and hear.')\n"
     ]
    },
    {
     "ename": "TypeError",
     "evalue": "object of type 'int' has no len()",
     "output_type": "error",
     "traceback": [
      "\u001b[1;31m---------------------------------------------------------------------------\u001b[0m",
      "\u001b[1;31mTypeError\u001b[0m                                 Traceback (most recent call last)",
      "\u001b[1;32mc:\\Users\\galle\\OneDrive\\Desktop\\Learning\\Stanford\\RNNSentiment\\rnn-sentiment.ipynb Cell 3\u001b[0m in \u001b[0;36m5\n\u001b[0;32m     <a href='vscode-notebook-cell:/c%3A/Users/galle/OneDrive/Desktop/Learning/Stanford/RNNSentiment/rnn-sentiment.ipynb#W2sZmlsZQ%3D%3D?line=53'>54</a>\u001b[0m \u001b[39m# Training\u001b[39;00m\n\u001b[0;32m     <a href='vscode-notebook-cell:/c%3A/Users/galle/OneDrive/Desktop/Learning/Stanford/RNNSentiment/rnn-sentiment.ipynb#W2sZmlsZQ%3D%3D?line=54'>55</a>\u001b[0m \u001b[39mfor\u001b[39;00m epoch \u001b[39min\u001b[39;00m \u001b[39mrange\u001b[39m(\u001b[39m5\u001b[39m):\n\u001b[1;32m---> <a href='vscode-notebook-cell:/c%3A/Users/galle/OneDrive/Desktop/Learning/Stanford/RNNSentiment/rnn-sentiment.ipynb#W2sZmlsZQ%3D%3D?line=55'>56</a>\u001b[0m     \u001b[39mfor\u001b[39;00m i, (text, labels, _) \u001b[39min\u001b[39;00m \u001b[39menumerate\u001b[39m(train_loader):\n\u001b[0;32m     <a href='vscode-notebook-cell:/c%3A/Users/galle/OneDrive/Desktop/Learning/Stanford/RNNSentiment/rnn-sentiment.ipynb#W2sZmlsZQ%3D%3D?line=56'>57</a>\u001b[0m         optimizer\u001b[39m.\u001b[39mzero_grad()\n\u001b[0;32m     <a href='vscode-notebook-cell:/c%3A/Users/galle/OneDrive/Desktop/Learning/Stanford/RNNSentiment/rnn-sentiment.ipynb#W2sZmlsZQ%3D%3D?line=57'>58</a>\u001b[0m         predictions \u001b[39m=\u001b[39m model(text)\u001b[39m.\u001b[39msqueeze(\u001b[39m1\u001b[39m)\n",
      "File \u001b[1;32mc:\\Users\\galle\\AppData\\Local\\Programs\\Python\\Python310\\lib\\site-packages\\torch\\utils\\data\\dataloader.py:633\u001b[0m, in \u001b[0;36m_BaseDataLoaderIter.__next__\u001b[1;34m(self)\u001b[0m\n\u001b[0;32m    630\u001b[0m \u001b[39mif\u001b[39;00m \u001b[39mself\u001b[39m\u001b[39m.\u001b[39m_sampler_iter \u001b[39mis\u001b[39;00m \u001b[39mNone\u001b[39;00m:\n\u001b[0;32m    631\u001b[0m     \u001b[39m# TODO(https://github.com/pytorch/pytorch/issues/76750)\u001b[39;00m\n\u001b[0;32m    632\u001b[0m     \u001b[39mself\u001b[39m\u001b[39m.\u001b[39m_reset()  \u001b[39m# type: ignore[call-arg]\u001b[39;00m\n\u001b[1;32m--> 633\u001b[0m data \u001b[39m=\u001b[39m \u001b[39mself\u001b[39;49m\u001b[39m.\u001b[39;49m_next_data()\n\u001b[0;32m    634\u001b[0m \u001b[39mself\u001b[39m\u001b[39m.\u001b[39m_num_yielded \u001b[39m+\u001b[39m\u001b[39m=\u001b[39m \u001b[39m1\u001b[39m\n\u001b[0;32m    635\u001b[0m \u001b[39mif\u001b[39;00m \u001b[39mself\u001b[39m\u001b[39m.\u001b[39m_dataset_kind \u001b[39m==\u001b[39m _DatasetKind\u001b[39m.\u001b[39mIterable \u001b[39mand\u001b[39;00m \\\n\u001b[0;32m    636\u001b[0m         \u001b[39mself\u001b[39m\u001b[39m.\u001b[39m_IterableDataset_len_called \u001b[39mis\u001b[39;00m \u001b[39mnot\u001b[39;00m \u001b[39mNone\u001b[39;00m \u001b[39mand\u001b[39;00m \\\n\u001b[0;32m    637\u001b[0m         \u001b[39mself\u001b[39m\u001b[39m.\u001b[39m_num_yielded \u001b[39m>\u001b[39m \u001b[39mself\u001b[39m\u001b[39m.\u001b[39m_IterableDataset_len_called:\n",
      "File \u001b[1;32mc:\\Users\\galle\\AppData\\Local\\Programs\\Python\\Python310\\lib\\site-packages\\torch\\utils\\data\\dataloader.py:677\u001b[0m, in \u001b[0;36m_SingleProcessDataLoaderIter._next_data\u001b[1;34m(self)\u001b[0m\n\u001b[0;32m    675\u001b[0m \u001b[39mdef\u001b[39;00m \u001b[39m_next_data\u001b[39m(\u001b[39mself\u001b[39m):\n\u001b[0;32m    676\u001b[0m     index \u001b[39m=\u001b[39m \u001b[39mself\u001b[39m\u001b[39m.\u001b[39m_next_index()  \u001b[39m# may raise StopIteration\u001b[39;00m\n\u001b[1;32m--> 677\u001b[0m     data \u001b[39m=\u001b[39m \u001b[39mself\u001b[39;49m\u001b[39m.\u001b[39;49m_dataset_fetcher\u001b[39m.\u001b[39;49mfetch(index)  \u001b[39m# may raise StopIteration\u001b[39;00m\n\u001b[0;32m    678\u001b[0m     \u001b[39mif\u001b[39;00m \u001b[39mself\u001b[39m\u001b[39m.\u001b[39m_pin_memory:\n\u001b[0;32m    679\u001b[0m         data \u001b[39m=\u001b[39m _utils\u001b[39m.\u001b[39mpin_memory\u001b[39m.\u001b[39mpin_memory(data, \u001b[39mself\u001b[39m\u001b[39m.\u001b[39m_pin_memory_device)\n",
      "File \u001b[1;32mc:\\Users\\galle\\AppData\\Local\\Programs\\Python\\Python310\\lib\\site-packages\\torch\\utils\\data\\_utils\\fetch.py:54\u001b[0m, in \u001b[0;36m_MapDatasetFetcher.fetch\u001b[1;34m(self, possibly_batched_index)\u001b[0m\n\u001b[0;32m     52\u001b[0m \u001b[39melse\u001b[39;00m:\n\u001b[0;32m     53\u001b[0m     data \u001b[39m=\u001b[39m \u001b[39mself\u001b[39m\u001b[39m.\u001b[39mdataset[possibly_batched_index]\n\u001b[1;32m---> 54\u001b[0m \u001b[39mreturn\u001b[39;00m \u001b[39mself\u001b[39;49m\u001b[39m.\u001b[39;49mcollate_fn(data)\n",
      "\u001b[1;32mc:\\Users\\galle\\OneDrive\\Desktop\\Learning\\Stanford\\RNNSentiment\\rnn-sentiment.ipynb Cell 3\u001b[0m in \u001b[0;36m2\n\u001b[0;32m     <a href='vscode-notebook-cell:/c%3A/Users/galle/OneDrive/Desktop/Learning/Stanford/RNNSentiment/rnn-sentiment.ipynb#W2sZmlsZQ%3D%3D?line=22'>23</a>\u001b[0m \u001b[39mdef\u001b[39;00m \u001b[39mpad_collate\u001b[39m(batch):\n\u001b[0;32m     <a href='vscode-notebook-cell:/c%3A/Users/galle/OneDrive/Desktop/Learning/Stanford/RNNSentiment/rnn-sentiment.ipynb#W2sZmlsZQ%3D%3D?line=23'>24</a>\u001b[0m     (xx, yy) \u001b[39m=\u001b[39m \u001b[39mzip\u001b[39m(\u001b[39m*\u001b[39mbatch)\n\u001b[1;32m---> <a href='vscode-notebook-cell:/c%3A/Users/galle/OneDrive/Desktop/Learning/Stanford/RNNSentiment/rnn-sentiment.ipynb#W2sZmlsZQ%3D%3D?line=24'>25</a>\u001b[0m     x_lens \u001b[39m=\u001b[39m [\u001b[39mlen\u001b[39m(x) \u001b[39mfor\u001b[39;00m x \u001b[39min\u001b[39;00m xx]\n\u001b[0;32m     <a href='vscode-notebook-cell:/c%3A/Users/galle/OneDrive/Desktop/Learning/Stanford/RNNSentiment/rnn-sentiment.ipynb#W2sZmlsZQ%3D%3D?line=25'>26</a>\u001b[0m     xx_pad \u001b[39m=\u001b[39m pad_sequence(xx, batch_first\u001b[39m=\u001b[39m\u001b[39mTrue\u001b[39;00m, padding_value\u001b[39m=\u001b[39m\u001b[39m0\u001b[39m)\n\u001b[0;32m     <a href='vscode-notebook-cell:/c%3A/Users/galle/OneDrive/Desktop/Learning/Stanford/RNNSentiment/rnn-sentiment.ipynb#W2sZmlsZQ%3D%3D?line=27'>28</a>\u001b[0m     \u001b[39mreturn\u001b[39;00m xx_pad, torch\u001b[39m.\u001b[39mTensor(yy), x_lens\n",
      "\u001b[1;32mc:\\Users\\galle\\OneDrive\\Desktop\\Learning\\Stanford\\RNNSentiment\\rnn-sentiment.ipynb Cell 3\u001b[0m in \u001b[0;36m2\n\u001b[0;32m     <a href='vscode-notebook-cell:/c%3A/Users/galle/OneDrive/Desktop/Learning/Stanford/RNNSentiment/rnn-sentiment.ipynb#W2sZmlsZQ%3D%3D?line=22'>23</a>\u001b[0m \u001b[39mdef\u001b[39;00m \u001b[39mpad_collate\u001b[39m(batch):\n\u001b[0;32m     <a href='vscode-notebook-cell:/c%3A/Users/galle/OneDrive/Desktop/Learning/Stanford/RNNSentiment/rnn-sentiment.ipynb#W2sZmlsZQ%3D%3D?line=23'>24</a>\u001b[0m     (xx, yy) \u001b[39m=\u001b[39m \u001b[39mzip\u001b[39m(\u001b[39m*\u001b[39mbatch)\n\u001b[1;32m---> <a href='vscode-notebook-cell:/c%3A/Users/galle/OneDrive/Desktop/Learning/Stanford/RNNSentiment/rnn-sentiment.ipynb#W2sZmlsZQ%3D%3D?line=24'>25</a>\u001b[0m     x_lens \u001b[39m=\u001b[39m [\u001b[39mlen\u001b[39;49m(x) \u001b[39mfor\u001b[39;00m x \u001b[39min\u001b[39;00m xx]\n\u001b[0;32m     <a href='vscode-notebook-cell:/c%3A/Users/galle/OneDrive/Desktop/Learning/Stanford/RNNSentiment/rnn-sentiment.ipynb#W2sZmlsZQ%3D%3D?line=25'>26</a>\u001b[0m     xx_pad \u001b[39m=\u001b[39m pad_sequence(xx, batch_first\u001b[39m=\u001b[39m\u001b[39mTrue\u001b[39;00m, padding_value\u001b[39m=\u001b[39m\u001b[39m0\u001b[39m)\n\u001b[0;32m     <a href='vscode-notebook-cell:/c%3A/Users/galle/OneDrive/Desktop/Learning/Stanford/RNNSentiment/rnn-sentiment.ipynb#W2sZmlsZQ%3D%3D?line=27'>28</a>\u001b[0m     \u001b[39mreturn\u001b[39;00m xx_pad, torch\u001b[39m.\u001b[39mTensor(yy), x_lens\n",
      "\u001b[1;31mTypeError\u001b[0m: object of type 'int' has no len()"
     ]
    }
   ],
   "source": [
    "import torch\n",
    "from torch import nn\n",
    "from torch.nn.utils.rnn import pad_sequence\n",
    "from torch.utils.data import DataLoader, Dataset\n",
    "from sklearn.model_selection import train_test_split\n",
    "from torchtext.datasets import IMDB\n",
    "\n",
    "# Define the model\n",
    "class SentimentAnalysisModel(nn.Module):\n",
    "    def __init__(self, input_dim, embedding_dim, hidden_dim, output_dim):\n",
    "        super().__init__()\n",
    "        self.embedding = nn.Embedding(input_dim, embedding_dim)\n",
    "        self.rnn = nn.RNN(embedding_dim, hidden_dim)\n",
    "        self.fc = nn.Linear(hidden_dim, output_dim)\n",
    "    \n",
    "    def forward(self, text):\n",
    "        embedded = self.embedding(text)\n",
    "        output, _ = self.rnn(embedded)\n",
    "        output = self.fc(output)\n",
    "        return output\n",
    "\n",
    "# Padding function\n",
    "def pad_collate(batch):\n",
    "    (xx, yy) = zip(*batch)\n",
    "    x_lens = [len(x) for x in xx]\n",
    "    xx_pad = pad_sequence(xx, batch_first=True, padding_value=0)\n",
    "\n",
    "    return xx_pad, torch.Tensor(yy), x_lens\n",
    "\n",
    "# Load data\n",
    "train_iter, test_iter = IMDB()\n",
    "\n",
    "# Convert to list\n",
    "train_dataset = list(train_iter)\n",
    "test_dataset = list(test_iter)\n",
    "\n",
    "print(train_dataset[5000])\n",
    "\n",
    "# Split data\n",
    "train_data, valid_data = train_test_split(train_dataset, test_size=0.1)\n",
    "\n",
    "# Define the DataLoader\n",
    "train_loader = DataLoader(train_data, batch_size=64, shuffle=True, collate_fn=pad_collate)\n",
    "valid_loader = DataLoader(valid_data, batch_size=64, shuffle=True, collate_fn=pad_collate)\n",
    "test_loader = DataLoader(test_dataset, batch_size=64, shuffle=True, collate_fn=pad_collate)\n",
    "\n",
    "# Define the model\n",
    "model = SentimentAnalysisModel(25000, 100, 256, 1)\n",
    "\n",
    "# Define the loss function and the optimizer\n",
    "criterion = nn.BCEWithLogitsLoss()\n",
    "optimizer = torch.optim.Adam(model.parameters())\n",
    "\n",
    "# Training\n",
    "for epoch in range(5):\n",
    "    for i, (text, labels, _) in enumerate(train_loader):\n",
    "        optimizer.zero_grad()\n",
    "        predictions = model(text).squeeze(1)\n",
    "        loss = criterion(predictions, labels)\n",
    "        loss.backward()\n",
    "        optimizer.step()\n"
   ]
  },
  {
   "cell_type": "code",
   "execution_count": null,
   "metadata": {},
   "outputs": [],
   "source": []
  }
 ],
 "metadata": {
  "kernelspec": {
   "display_name": "Python 3",
   "language": "python",
   "name": "python3"
  },
  "language_info": {
   "codemirror_mode": {
    "name": "ipython",
    "version": 3
   },
   "file_extension": ".py",
   "mimetype": "text/x-python",
   "name": "python",
   "nbconvert_exporter": "python",
   "pygments_lexer": "ipython3",
   "version": "3.10.6"
  },
  "orig_nbformat": 4
 },
 "nbformat": 4,
 "nbformat_minor": 2
}
